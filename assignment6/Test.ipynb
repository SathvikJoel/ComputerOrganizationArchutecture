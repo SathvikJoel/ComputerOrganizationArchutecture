{
 "metadata": {
  "language_info": {
   "codemirror_mode": {
    "name": "ipython",
    "version": 3
   },
   "file_extension": ".py",
   "mimetype": "text/x-python",
   "name": "python",
   "nbconvert_exporter": "python",
   "pygments_lexer": "ipython3",
   "version": "3.9.2-final"
  },
  "orig_nbformat": 2,
  "kernelspec": {
   "name": "python3",
   "display_name": "Python 3.9.2 64-bit",
   "metadata": {
    "interpreter": {
     "hash": "767d51c1340bd893661ea55ea3124f6de3c7a262a8b4abca0554b478b1e2ff90"
    }
   }
  }
 },
 "nbformat": 4,
 "nbformat_minor": 2,
 "cells": [
  {
   "cell_type": "code",
   "execution_count": 1,
   "metadata": {},
   "outputs": [],
   "source": [
    "import binascii"
   ]
  },
  {
   "cell_type": "code",
   "execution_count": 3,
   "metadata": {},
   "outputs": [],
   "source": [
    "binary_string = binascii.unhexlify('FFFFFFFF')"
   ]
  },
  {
   "cell_type": "code",
   "execution_count": 6,
   "metadata": {},
   "outputs": [
    {
     "output_type": "execute_result",
     "data": {
      "text/plain": [
       "b'\\xff\\xff\\xff\\xff'"
      ]
     },
     "metadata": {},
     "execution_count": 6
    }
   ],
   "source": [
    "(binary_string)"
   ]
  },
  {
   "cell_type": "code",
   "execution_count": 13,
   "metadata": {},
   "outputs": [
    {
     "output_type": "execute_result",
     "data": {
      "text/plain": [
       "\"b'\\\\xff\\\\xff\\\\xff\\\\xff'\""
      ]
     },
     "metadata": {},
     "execution_count": 13
    }
   ],
   "source": [
    "str(binary_string)"
   ]
  },
  {
   "cell_type": "code",
   "execution_count": 1,
   "metadata": {},
   "outputs": [
    {
     "output_type": "execute_result",
     "data": {
      "text/plain": [
       "'11111111111111111111111111111111'"
      ]
     },
     "metadata": {},
     "execution_count": 1
    }
   ],
   "source": [
    "(bin(int('7FFFFFFF', 16))[2:])"
   ]
  },
  {
   "cell_type": "code",
   "execution_count": 39,
   "metadata": {},
   "outputs": [],
   "source": [
    "import random"
   ]
  },
  {
   "cell_type": "code",
   "execution_count": 54,
   "metadata": {},
   "outputs": [],
   "source": [
    "\n",
    "class cache_block: \n",
    "  \n",
    "    # Function to initialise the node object \n",
    "    def __init__(self, tag): \n",
    "        self.tag = tag  # Assign data \n",
    "        self.valid_bit = False\n",
    "        self.dirty_bit = False\n",
    "        self.next = None  # Initialize next as null \n",
    "  "
   ]
  },
  {
   "cell_type": "code",
   "execution_count": 55,
   "metadata": {},
   "outputs": [],
   "source": [
    "class cache_set: \n",
    "  \n",
    "    # Function to initialize head \n",
    "    def __init__(self, ways): \n",
    "        self.head = self.create_list(ways)\n",
    "\n",
    "\n",
    "    def create_list(self, length):\n",
    "        linked_list = cache_block('1')\n",
    "        head =  linked_list\n",
    "        for _  in range(1, length):\n",
    "            head.next = cache_block(str(random.randint(0,9)))\n",
    "            head = head.next\n",
    "        return linked_list"
   ]
  },
  {
   "cell_type": "code",
   "execution_count": 56,
   "metadata": {},
   "outputs": [],
   "source": [
    "sets = cache_set(4)"
   ]
  },
  {
   "cell_type": "code",
   "execution_count": 1,
   "metadata": {},
   "outputs": [],
   "source": [
    "sets = 16\n",
    "ways = 4"
   ]
  },
  {
   "cell_type": "code",
   "execution_count": 2,
   "metadata": {},
   "outputs": [],
   "source": [
    "(rows, cols) = (sets, (2*ways) - 1)"
   ]
  },
  {
   "cell_type": "code",
   "execution_count": 3,
   "metadata": {},
   "outputs": [],
   "source": [
    "tree =  [[0 for i in range(cols)] for j in range(rows)]"
   ]
  },
  {
   "cell_type": "code",
   "execution_count": 4,
   "metadata": {},
   "outputs": [
    {
     "output_type": "stream",
     "name": "stdout",
     "text": [
      "[0, 0, 0, 0, 0, 0, 0]\n[0, 0, 0, 0, 0, 0, 0]\n[0, 0, 0, 0, 0, 0, 0]\n[0, 0, 0, 0, 0, 0, 0]\n[0, 0, 0, 0, 0, 0, 0]\n[0, 0, 0, 0, 0, 0, 0]\n[0, 0, 0, 0, 0, 0, 0]\n[0, 0, 0, 0, 0, 0, 0]\n[0, 0, 0, 0, 0, 0, 0]\n[0, 0, 0, 0, 0, 0, 0]\n[0, 0, 0, 0, 0, 0, 0]\n[0, 0, 0, 0, 0, 0, 0]\n[0, 0, 0, 0, 0, 0, 0]\n[0, 0, 0, 0, 0, 0, 0]\n[0, 0, 0, 0, 0, 0, 0]\n[0, 0, 0, 0, 0, 0, 0]\n"
     ]
    }
   ],
   "source": [
    "for row in tree:\n",
    "    print(row)"
   ]
  },
  {
   "cell_type": "code",
   "execution_count": null,
   "metadata": {},
   "outputs": [],
   "source": [
    "def update_tree(tag, set, status):\n",
    "    if( status == -1):\n",
    "        pos = 0\n",
    "        while( pos < ways - 1):\n",
    "            d = tree[set][pos]\n",
    "            "
   ]
  },
  {
   "cell_type": "code",
   "execution_count": 5,
   "metadata": {},
   "outputs": [],
   "source": [
    "x = 3^4"
   ]
  },
  {
   "cell_type": "code",
   "execution_count": 6,
   "metadata": {},
   "outputs": [
    {
     "output_type": "execute_result",
     "data": {
      "text/plain": [
       "7"
      ]
     },
     "metadata": {},
     "execution_count": 6
    }
   ],
   "source": [
    "x"
   ]
  },
  {
   "cell_type": "code",
   "execution_count": 2,
   "metadata": {},
   "outputs": [
    {
     "output_type": "execute_result",
     "data": {
      "text/plain": [
       "683"
      ]
     },
     "metadata": {},
     "execution_count": 2
    }
   ],
   "source": [
    "int('01010101011', 2)"
   ]
  },
  {
   "cell_type": "code",
   "execution_count": 3,
   "metadata": {},
   "outputs": [
    {
     "output_type": "execute_result",
     "data": {
      "text/plain": [
       "21855"
      ]
     },
     "metadata": {},
     "execution_count": 3
    }
   ],
   "source": [
    "int('0000000000000000101010101011111', 2)"
   ]
  },
  {
   "cell_type": "code",
   "execution_count": 4,
   "metadata": {},
   "outputs": [
    {
     "output_type": "execute_result",
     "data": {
      "text/plain": [
       "31"
      ]
     },
     "metadata": {},
     "execution_count": 4
    }
   ],
   "source": [
    "len('0000000000000000101010101011111')"
   ]
  },
  {
   "cell_type": "code",
   "execution_count": 42,
   "metadata": {},
   "outputs": [],
   "source": [
    "class cache_metric:\n",
    "    def __init__(self,associativity , replacement_policy ):\n",
    "        self.cache_access = 0;\n",
    "        self.read_access = 0;\n",
    "        self.write_access = 0;\n",
    "        self.cache_miss = 0;\n",
    "        self.compulsory_miss = 0;\n",
    "        self.capacity_miss = 0;\n",
    "        self.conflict_miss = 0;\n",
    "        self.read_miss = 0;\n",
    "        self.write_miss = 0;\n",
    "        self.dirty_evicted = 0;\n",
    "    def update(self, strings):\n",
    "        if type(strings) == str:\n",
    "            self.__dict__[strings] += 1\n",
    "        else:\n",
    "            for string in strings:\n",
    "                self.__dict__[string] += 1"
   ]
  },
  {
   "cell_type": "code",
   "execution_count": 43,
   "metadata": {},
   "outputs": [],
   "source": [
    "c = cache_metric(1,2)"
   ]
  },
  {
   "cell_type": "code",
   "execution_count": 44,
   "metadata": {},
   "outputs": [
    {
     "output_type": "execute_result",
     "data": {
      "text/plain": [
       "{'cache_access': 0,\n",
       " 'read_access': 0,\n",
       " 'write_access': 0,\n",
       " 'cache_miss': 0,\n",
       " 'compulsory_miss': 0,\n",
       " 'capacity_miss': 0,\n",
       " 'conflict_miss': 0,\n",
       " 'read_miss': 0,\n",
       " 'write_miss': 0,\n",
       " 'dirty_evicted': 0}"
      ]
     },
     "metadata": {},
     "execution_count": 44
    }
   ],
   "source": [
    "c.__dict__"
   ]
  },
  {
   "cell_type": "code",
   "execution_count": 45,
   "metadata": {},
   "outputs": [],
   "source": [
    "c.update('cache_miss')"
   ]
  },
  {
   "cell_type": "code",
   "execution_count": 46,
   "metadata": {},
   "outputs": [
    {
     "output_type": "execute_result",
     "data": {
      "text/plain": [
       "{'cache_access': 0,\n",
       " 'read_access': 0,\n",
       " 'write_access': 0,\n",
       " 'cache_miss': 1,\n",
       " 'compulsory_miss': 0,\n",
       " 'capacity_miss': 0,\n",
       " 'conflict_miss': 0,\n",
       " 'read_miss': 0,\n",
       " 'write_miss': 0,\n",
       " 'dirty_evicted': 0}"
      ]
     },
     "metadata": {},
     "execution_count": 46
    }
   ],
   "source": [
    "c.__dict__"
   ]
  },
  {
   "cell_type": "code",
   "execution_count": 56,
   "metadata": {},
   "outputs": [],
   "source": [
    "c.update(['read_miss', 'write_miss'])"
   ]
  },
  {
   "cell_type": "code",
   "execution_count": 57,
   "metadata": {},
   "outputs": [
    {
     "output_type": "execute_result",
     "data": {
      "text/plain": [
       "{'cache_access': 0,\n",
       " 'read_access': 0,\n",
       " 'write_access': 0,\n",
       " 'cache_miss': 1,\n",
       " 'compulsory_miss': 0,\n",
       " 'capacity_miss': 0,\n",
       " 'conflict_miss': 0,\n",
       " 'read_miss': 6,\n",
       " 'write_miss': 3,\n",
       " 'dirty_evicted': 0}"
      ]
     },
     "metadata": {},
     "execution_count": 57
    }
   ],
   "source": [
    "c.__dict__"
   ]
  },
  {
   "cell_type": "code",
   "execution_count": 37,
   "metadata": {},
   "outputs": [
    {
     "output_type": "execute_result",
     "data": {
      "text/plain": [
       "True"
      ]
     },
     "metadata": {},
     "execution_count": 37
    }
   ],
   "source": [
    "type('string') == str"
   ]
  },
  {
   "cell_type": "code",
   "execution_count": 64,
   "metadata": {},
   "outputs": [],
   "source": [
    "class Person(object):    \n",
    "    def __init__(self, first_name, last_name):        \n",
    "        self.first_name = first_name        \n",
    "        self.last_name = last_name    \n",
    "\n",
    "    def say_hello(self,name):        \n",
    "        print(\"Hello, {}!\".format(name))"
   ]
  },
  {
   "cell_type": "code",
   "execution_count": 65,
   "metadata": {},
   "outputs": [
    {
     "output_type": "stream",
     "name": "stdout",
     "text": [
      "Hello, someone else!\n"
     ]
    }
   ],
   "source": [
    "adrienne = Person(\"Adrienne\", \"Domingus\")\n",
    "getattr(adrienne, 'say_hello')('someone else')"
   ]
  },
  {
   "cell_type": "code",
   "execution_count": 66,
   "metadata": {},
   "outputs": [],
   "source": [
    "class cache_metric:\n",
    "    def __init__(self,associativity , replacement_policy ):\n",
    "        self.associativity = associativity\n",
    "        self.replacement_policy = replacement_policy\n",
    "\n",
    "    def update(self, strings):\n",
    "        if type(strings) == str:\n",
    "            self.__dict__[strings] = self.__dict__.get(strings, 0) + 1\n",
    "        else:\n",
    "            for string in strings:\n",
    "                self.__dict__[string] = self.__dict__.get(string ,0 ) + 1\n",
    "\n",
    "    def print_metrics(self):\n",
    "        for k,v in self.__dict__.items():\n",
    "            print( k ,\" = \", v)"
   ]
  },
  {
   "cell_type": "code",
   "execution_count": 68,
   "metadata": {},
   "outputs": [],
   "source": [
    "def cache_miss_update(replacer, access_type):\n",
    "    replacer.cache.metrics.update('cache_miss')\n",
    "    if( access_type == 0):\n",
    "        replacer.cache.metrics.update('read_miss')\n",
    "    else:\n",
    "        replacer.cache.metrics.update('write_miss')"
   ]
  },
  {
   "cell_type": "code",
   "execution_count": null,
   "metadata": {},
   "outputs": [],
   "source": [
    "def capacity_conflict_update(replacer):\n",
    "    if( self.cache.bbox.associativity == 0): self.cache.metrics.update('capacity_misses')\n",
    "    self.cache.metrics.update('conflict_miss')\n"
   ]
  }
 ]
}